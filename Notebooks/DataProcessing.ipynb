{
 "cells": [
  {
   "cell_type": "code",
   "execution_count": 11,
   "metadata": {},
   "outputs": [],
   "source": [
    "import pandas as pd\n",
    "import glob\n",
    "import os\n",
    "import sqlite3\n",
    "from collections import Counter"
   ]
  },
  {
   "cell_type": "markdown",
   "metadata": {},
   "source": [
    "After connecting to the receiving_data.db, I query all receiving data from both tables by the Wide Receiver position and then close the connection to the SQL db."
   ]
  },
  {
   "cell_type": "code",
   "execution_count": 12,
   "metadata": {},
   "outputs": [],
   "source": [
    "con = sqlite3.connect(\"raw_data/receiving_data.db\")\n",
    "cur = con.cursor()\n",
    "\n",
    "nflWR = pd.read_sql_query(\"SELECT * from NFL where position == 'WR'\", con)\n",
    "ncaaWR = pd.read_sql_query(\"SELECT * from NCAA where position == 'WR'\", con)\n",
    "\n",
    "con.close() "
   ]
  },
  {
   "cell_type": "code",
   "execution_count": 15,
   "metadata": {},
   "outputs": [],
   "source": [
    "#drop all columns that are not player and player_id\n",
    "merged = pd.merge(ncaaWR, nflWR, left_on=['player','player_id'], right_on=['player','player_id'], how='inner')\n",
    "columns_drop = list((Counter(list(merged.columns))-Counter(['player','player_id'])).elements())\n",
    "merged.drop(columns=columns_drop, inplace=True)\n",
    "\n",
    "#get the list of WRs who are in both the NCAA and NFL datasets\n",
    "player_list = merged.drop_duplicates()\n",
    "\n",
    "#Create separate dfs with WR players who have played in the NCCA and the NFL\n",
    "ncaa = ncaaWR[ncaaWR['player_id'].isin(player_list['player_id'])]\n",
    "nfl = nflWR[nflWR['player_id'].isin(player_list['player_id'])]\n",
    "\n",
    "ncaa = ncaa.reset_index(drop=True)\n",
    "nfl = nfl.reset_index(drop=True)"
   ]
  },
  {
   "cell_type": "code",
   "execution_count": 16,
   "metadata": {},
   "outputs": [
    {
     "name": "stdout",
     "output_type": "stream",
     "text": [
      "We have 377 players who have played in both the NCAA between 2014-2022 and the NFL between 2015-2023\n"
     ]
    }
   ],
   "source": [
    "unique_ncaa = ncaa.drop_duplicates('player_id')\n",
    "print(f\"We have {len(unique_ncaa)} players who have played in both the NCAA between 2014-2022 and the NFL between 2015-2023\")"
   ]
  },
  {
   "cell_type": "markdown",
   "metadata": {},
   "source": [
    "Trim DFs to features that we will use"
   ]
  },
  {
   "cell_type": "code",
   "execution_count": 21,
   "metadata": {},
   "outputs": [],
   "source": [
    "cols_keep = ['year', 'player', 'player_id','player_game_count', 'avg_depth_of_target', 'avoided_tackles','caught_percent','drops','grades_hands_drop',\n",
    "       'grades_hands_fumble', 'grades_offense','grades_pass_route','route_rate', 'routes', 'slot_rate', 'slot_snaps',\n",
    "       'targeted_qb_rating', 'targets', 'touchdowns', 'wide_rate','wide_snaps','routes','receptions', 'yards', 'yards_after_catch','yards_after_catch_per_reception', 'yards_per_reception', 'yprr']\n",
    "\n",
    "nfl_filter = nfl[cols_keep]\n",
    "ncaa_filter = ncaa[cols_keep]"
   ]
  },
  {
   "cell_type": "code",
   "execution_count": 22,
   "metadata": {},
   "outputs": [],
   "source": [
    "groupby_NFL = nfl_filter.groupby('player_id')\n",
    "groupby_ncaa = ncaa_filter.groupby('player_id')"
   ]
  },
  {
   "cell_type": "code",
   "execution_count": 23,
   "metadata": {},
   "outputs": [
    {
     "name": "stderr",
     "output_type": "stream",
     "text": [
      "C:\\Users\\16467\\AppData\\Local\\Temp\\ipykernel_19864\\2716612742.py:9: SettingWithCopyWarning: \n",
      "A value is trying to be set on a copy of a slice from a DataFrame.\n",
      "Try using .loc[row_indexer,col_indexer] = value instead\n",
      "\n",
      "See the caveats in the documentation: https://pandas.pydata.org/pandas-docs/stable/user_guide/indexing.html#returning-a-view-versus-a-copy\n",
      "  final_season[i] = nanDF[i]\n",
      "C:\\Users\\16467\\AppData\\Local\\Temp\\ipykernel_19864\\2716612742.py:9: SettingWithCopyWarning: \n",
      "A value is trying to be set on a copy of a slice from a DataFrame.\n",
      "Try using .loc[row_indexer,col_indexer] = value instead\n",
      "\n",
      "See the caveats in the documentation: https://pandas.pydata.org/pandas-docs/stable/user_guide/indexing.html#returning-a-view-versus-a-copy\n",
      "  final_season[i] = nanDF[i]\n",
      "C:\\Users\\16467\\AppData\\Local\\Temp\\ipykernel_19864\\2716612742.py:9: SettingWithCopyWarning: \n",
      "A value is trying to be set on a copy of a slice from a DataFrame.\n",
      "Try using .loc[row_indexer,col_indexer] = value instead\n",
      "\n",
      "See the caveats in the documentation: https://pandas.pydata.org/pandas-docs/stable/user_guide/indexing.html#returning-a-view-versus-a-copy\n",
      "  final_season[i] = nanDF[i]\n"
     ]
    }
   ],
   "source": [
    "#Replace all Nans with column means\n",
    "\n",
    "final_season = groupby_ncaa.tail(1)\n",
    "nan_cols = list(final_season.columns[final_season.isnull().any(axis=0)])\n",
    "nanDF = final_season.loc[:,nan_cols].copy(deep=False)\n",
    "\n",
    "for i in nan_cols:     #---Applying Only on variables with NaN values\n",
    "    nanDF.loc[:,i].fillna(nanDF.loc[:,i].mean(), inplace=True)\n",
    "    final_season[i] = nanDF[i]\n",
    "    \n",
    "final_season.isnull().values.any()\n",
    "\n",
    "#reset index\n",
    "final_season = final_season.reset_index(drop=True)"
   ]
  },
  {
   "cell_type": "code",
   "execution_count": null,
   "metadata": {},
   "outputs": [],
   "source": [
    "nan_cols"
   ]
  },
  {
   "cell_type": "code",
   "execution_count": 24,
   "metadata": {},
   "outputs": [],
   "source": [
    "#Create y-label DF\n",
    "players = final_season[['player','player_id']]\n",
    "players = pd.concat([players,pd.DataFrame(columns=list(('800_yard_season','1000_yard_season')))])\n",
    "players.player_id = players.player_id.astype(int)\n",
    "\n",
    "for idx,row in players.iterrows():\n",
    "    \n",
    "    player_id = row['player_id']\n",
    "    player_history = nfl.loc[nfl['player_id'] == player_id]\n",
    "    \n",
    "    for idx, row in player_history.iterrows():\n",
    "        if row['yards'] > 800:\n",
    "            players.loc[players['player_id'] == player_id,'800_yard_season'] = 1\n",
    "            \n",
    "        if row['yards'] > 1000:\n",
    "            players.loc[players['player_id'] == player_id,'1000_yard_season'] = 1\n",
    "            \n",
    "    if pd.isna(players.loc[players['player_id'] == player_id,'800_yard_season'].item()):\n",
    "        players.loc[players['player_id'] == player_id,'800_yard_season'] = 0\n",
    "        \n",
    "    if pd.isna(players.loc[players['player_id'] == player_id,'1000_yard_season'].item()):\n",
    "        players.loc[players['player_id'] == player_id,'1000_yard_season'] = 0"
   ]
  },
  {
   "cell_type": "code",
   "execution_count": 25,
   "metadata": {},
   "outputs": [
    {
     "name": "stdout",
     "output_type": "stream",
     "text": [
      "The number of WR who has over 800 yards in a NFL season is 41 \n",
      "The number of WR who has over 1000 yards in a NFL season is 63 \n",
      "\n"
     ]
    }
   ],
   "source": [
    "num_800 = len(players.loc[players['1000_yard_season'] == 1])\n",
    "\n",
    "num_1000 = len(players.loc[players['800_yard_season'] == 1])\n",
    "\n",
    "print(\n",
    "f\"The number of WR who has over 800 yards in a NFL season is {num_800} \\n\"\n",
    "f\"The number of WR who has over 1000 yards in a NFL season is {num_1000} \\n\"    \n",
    ")"
   ]
  },
  {
   "cell_type": "code",
   "execution_count": 26,
   "metadata": {},
   "outputs": [],
   "source": [
    "data = final_season\n",
    "labels = players\n",
    "\n",
    "data.to_csv('final_data/data.csv', index=False)\n",
    "labels.to_csv('final_data/labels.csv', index=False)"
   ]
  }
 ],
 "metadata": {
  "kernelspec": {
   "display_name": "Python 3 (ipykernel)",
   "language": "python",
   "name": "python3"
  },
  "language_info": {
   "codemirror_mode": {
    "name": "ipython",
    "version": 3
   },
   "file_extension": ".py",
   "mimetype": "text/x-python",
   "name": "python",
   "nbconvert_exporter": "python",
   "pygments_lexer": "ipython3",
   "version": "3.10.12"
  }
 },
 "nbformat": 4,
 "nbformat_minor": 2
}
