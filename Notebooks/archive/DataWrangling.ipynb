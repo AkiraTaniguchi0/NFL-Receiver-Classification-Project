{
 "cells": [
  {
   "cell_type": "code",
   "execution_count": 1,
   "id": "b6a98b7f",
   "metadata": {},
   "outputs": [],
   "source": [
    "import pandas as pd\n",
    "import glob\n",
    "import os\n",
    "import sqlite3\n",
    "from collections import Counter"
   ]
  },
  {
   "cell_type": "code",
   "execution_count": 2,
   "id": "6e8f11fc",
   "metadata": {},
   "outputs": [],
   "source": [
    "#https://stackoverflow.com/questions/20625582/how-to-deal-with-settingwithcopywarning-in-pandas\n",
    "\n",
    "pd.set_option('mode.chained_assignment', None)"
   ]
  },
  {
   "cell_type": "markdown",
   "id": "7a88bf3a",
   "metadata": {},
   "source": [
    "### Data source\n",
    "https://premium.pff.com/ncaa/positions/2014/REGPO/receiving?division=fbs&position=WR"
   ]
  },
  {
   "cell_type": "code",
   "execution_count": 3,
   "id": "ef84a70a",
   "metadata": {},
   "outputs": [
    {
     "data": {
      "text/plain": [
       "['data\\\\data.csv',\n",
       " 'data\\\\labels.csv',\n",
       " 'data\\\\ncaa_wr14.csv',\n",
       " 'data\\\\ncaa_wr15.csv',\n",
       " 'data\\\\ncaa_wr16.csv',\n",
       " 'data\\\\ncaa_wr17.csv',\n",
       " 'data\\\\ncaa_wr18.csv',\n",
       " 'data\\\\ncaa_wr19.csv',\n",
       " 'data\\\\ncaa_wr20.csv',\n",
       " 'data\\\\ncaa_wr21.csv',\n",
       " 'data\\\\ncaa_wr22.csv',\n",
       " 'data\\\\ncaa_wr23.csv',\n",
       " 'data\\\\nfl_wr15.csv',\n",
       " 'data\\\\nfl_wr16.csv',\n",
       " 'data\\\\nfl_wr17.csv',\n",
       " 'data\\\\nfl_wr18.csv',\n",
       " 'data\\\\nfl_wr19.csv',\n",
       " 'data\\\\nfl_wr20.csv',\n",
       " 'data\\\\nfl_wr21.csv',\n",
       " 'data\\\\nfl_wr22.csv',\n",
       " 'data\\\\nfl_wr23.csv']"
      ]
     },
     "execution_count": 3,
     "metadata": {},
     "output_type": "execute_result"
    }
   ],
   "source": [
    "path = r'data' \n",
    "all_files = glob.glob(path + \"/*.csv\")\n",
    "all_files"
   ]
  },
  {
   "cell_type": "code",
   "execution_count": 4,
   "id": "7a00e436",
   "metadata": {},
   "outputs": [],
   "source": [
    "#https://stackoverflow.com/questions/56949605/how-to-read-each-file-from-a-folder-and-create-seperate-data-frames-for-each-fil\n",
    "d = {os.path.splitext(os.path.basename(f))[0] : pd.read_csv(f) for f in all_files} "
   ]
  },
  {
   "cell_type": "code",
   "execution_count": 5,
   "id": "919649dd",
   "metadata": {},
   "outputs": [],
   "source": [
    "#create a list of tuples where each tuple is (name of csv,dataframe)\n",
    "\n",
    "#https://stackoverflow.com/questions/10795973/python-dictionary-search-values-for-keys-using-regular-expression\n",
    "ncaa_list = [(key, value) for key, value in d.items() if key.startswith(\"ncaa_\")]\n",
    "\n",
    "#add year column to each dataframe\n",
    "\n",
    "for entry in ncaa_list:\n",
    "    if 'year' not in entry[1].columns:\n",
    "        name = entry[0][len(entry[0]) - 2:]\n",
    "        year = \"20\"+name\n",
    "        entry[1].insert(0, 'year', int(year))\n",
    "\n",
    "#concat dfs in list into one df\n",
    "ncaa_all = pd.DataFrame()\n",
    "for i in ncaa_list:\n",
    "    ncaa_all = pd.concat([ncaa_all,i[1]])"
   ]
  },
  {
   "cell_type": "code",
   "execution_count": 6,
   "id": "e8d6dc2d",
   "metadata": {
    "scrolled": true
   },
   "outputs": [],
   "source": [
    "#do the above for NFL data\n",
    "\n",
    "nfl_list = [(key, value) for key, value in d.items() if key.startswith(\"nfl_\")]\n",
    "\n",
    "for entry in nfl_list:\n",
    "    if 'year' not in entry[1].columns:\n",
    "        name = entry[0][len(entry[0]) - 2:]\n",
    "        year = \"20\"+name\n",
    "        entry[1].insert(0, 'year', int(year))\n",
    "\n",
    "nfl_all = pd.DataFrame()\n",
    "for i in nfl_list:\n",
    "    nfl_all = pd.concat([nfl_all,i[1]])"
   ]
  },
  {
   "cell_type": "code",
   "execution_count": 7,
   "id": "ab1ef1e6",
   "metadata": {},
   "outputs": [],
   "source": [
    "nflWR = nfl_all.loc[nfl_all['position'] == 'WR']\n",
    "ncaaWR = ncaa_all.loc[ncaa_all['position']  == 'WR']"
   ]
  },
  {
   "cell_type": "code",
   "execution_count": 8,
   "id": "d96985eb",
   "metadata": {},
   "outputs": [
    {
     "data": {
      "text/plain": [
       "4804"
      ]
     },
     "execution_count": 8,
     "metadata": {},
     "output_type": "execute_result"
    }
   ],
   "source": [
    "len(ncaaWR.player_id.unique())"
   ]
  },
  {
   "cell_type": "code",
   "execution_count": 9,
   "id": "5c86bc03",
   "metadata": {},
   "outputs": [
    {
     "data": {
      "text/plain": [
       "46"
      ]
     },
     "execution_count": 9,
     "metadata": {},
     "output_type": "execute_result"
    }
   ],
   "source": [
    "len(ncaaWR.columns)"
   ]
  },
  {
   "cell_type": "code",
   "execution_count": 10,
   "id": "bef64c9c",
   "metadata": {
    "scrolled": true
   },
   "outputs": [
    {
     "data": {
      "text/plain": [
       "630"
      ]
     },
     "execution_count": 10,
     "metadata": {},
     "output_type": "execute_result"
    }
   ],
   "source": [
    "len(nflWR.player_id.unique())"
   ]
  },
  {
   "cell_type": "code",
   "execution_count": 11,
   "id": "6ae41188",
   "metadata": {},
   "outputs": [],
   "source": [
    "#drop all columns that are not player and player_id\n",
    "merged = pd.merge(ncaaWR, nflWR, left_on=['player','player_id'], right_on=['player','player_id'], how='inner')\n",
    "columns_drop = list((Counter(list(merged.columns))-Counter(['player','player_id'])).elements())\n",
    "merged.drop(columns=columns_drop, inplace=True)\n",
    "\n",
    "#get the list of WRs who are in both the NCAA and NFL datasets\n",
    "player_list = merged.drop_duplicates()\n",
    "\n",
    "#Create separate dfs with WR players who have played in the NCCA and the NFL\n",
    "ncaa = ncaaWR[ncaaWR['player_id'].isin(player_list['player_id'])]\n",
    "nfl = nflWR[nflWR['player_id'].isin(player_list['player_id'])]"
   ]
  },
  {
   "cell_type": "code",
   "execution_count": 12,
   "id": "850fd6ce",
   "metadata": {
    "scrolled": true
   },
   "outputs": [
    {
     "name": "stdout",
     "output_type": "stream",
     "text": [
      "We have 377 players who have played in both the NCAA between 2014-2022 and the NFL between 2015-2023\n"
     ]
    }
   ],
   "source": [
    "unique_ncaa = ncaa.drop_duplicates('player_id')\n",
    "print(f\"We have {len(unique_ncaa)} players who have played in both the NCAA between 2014-2022 and the NFL between 2015-2023\")"
   ]
  },
  {
   "cell_type": "code",
   "execution_count": 13,
   "id": "cba75ea2",
   "metadata": {},
   "outputs": [],
   "source": [
    "ncaa = ncaa.reset_index(drop=True)\n",
    "nfl = nfl.reset_index(drop=True)"
   ]
  },
  {
   "cell_type": "code",
   "execution_count": 14,
   "id": "183e2f8a",
   "metadata": {
    "scrolled": true
   },
   "outputs": [
    {
     "data": {
      "text/plain": [
       "Index(['year', 'player', 'player_id', 'position', 'team_name',\n",
       "       'player_game_count', 'avg_depth_of_target', 'avoided_tackles',\n",
       "       'caught_percent', 'contested_catch_rate', 'contested_receptions',\n",
       "       'contested_targets', 'declined_penalties', 'drop_rate', 'drops',\n",
       "       'first_downs', 'franchise_id', 'fumbles', 'grades_hands_drop',\n",
       "       'grades_hands_fumble', 'grades_offense', 'grades_pass_block',\n",
       "       'grades_pass_route', 'inline_rate', 'inline_snaps', 'interceptions',\n",
       "       'longest', 'pass_block_rate', 'pass_blocks', 'pass_plays', 'penalties',\n",
       "       'receptions', 'route_rate', 'routes', 'slot_rate', 'slot_snaps',\n",
       "       'targeted_qb_rating', 'targets', 'touchdowns', 'wide_rate',\n",
       "       'wide_snaps', 'yards', 'yards_after_catch',\n",
       "       'yards_after_catch_per_reception', 'yards_per_reception', 'yprr'],\n",
       "      dtype='object')"
      ]
     },
     "execution_count": 14,
     "metadata": {},
     "output_type": "execute_result"
    }
   ],
   "source": [
    "nfl.columns"
   ]
  },
  {
   "cell_type": "code",
   "execution_count": 15,
   "id": "522fc429",
   "metadata": {},
   "outputs": [],
   "source": [
    "cols_keep = ['year', 'player', 'player_id','player_game_count', 'avg_depth_of_target', 'avoided_tackles','caught_percent','drops','grades_hands_drop',\n",
    "       'grades_hands_fumble', 'grades_offense','grades_pass_route','route_rate', 'routes', 'slot_rate', 'slot_snaps',\n",
    "       'targeted_qb_rating', 'targets', 'touchdowns', 'wide_rate','wide_snaps','routes','receptions', 'yards', 'yards_after_catch','yards_after_catch_per_reception', 'yards_per_reception', 'yprr']"
   ]
  },
  {
   "cell_type": "code",
   "execution_count": 16,
   "id": "b5cf5841",
   "metadata": {},
   "outputs": [
    {
     "data": {
      "text/plain": [
       "['year',\n",
       " 'player',\n",
       " 'player_id',\n",
       " 'player_game_count',\n",
       " 'avg_depth_of_target',\n",
       " 'avoided_tackles',\n",
       " 'caught_percent',\n",
       " 'drops',\n",
       " 'grades_hands_drop',\n",
       " 'grades_hands_fumble',\n",
       " 'grades_offense',\n",
       " 'grades_pass_route',\n",
       " 'route_rate',\n",
       " 'routes',\n",
       " 'slot_rate',\n",
       " 'slot_snaps',\n",
       " 'targeted_qb_rating',\n",
       " 'targets',\n",
       " 'touchdowns',\n",
       " 'wide_rate',\n",
       " 'wide_snaps',\n",
       " 'routes',\n",
       " 'receptions',\n",
       " 'yards',\n",
       " 'yards_after_catch',\n",
       " 'yards_after_catch_per_reception',\n",
       " 'yards_per_reception',\n",
       " 'yprr']"
      ]
     },
     "execution_count": 16,
     "metadata": {},
     "output_type": "execute_result"
    }
   ],
   "source": [
    "cols_keep"
   ]
  },
  {
   "cell_type": "code",
   "execution_count": 17,
   "id": "f70a0e9d",
   "metadata": {
    "scrolled": true
   },
   "outputs": [
    {
     "data": {
      "text/plain": [
       "28"
      ]
     },
     "execution_count": 17,
     "metadata": {},
     "output_type": "execute_result"
    }
   ],
   "source": [
    "len(cols_keep)"
   ]
  },
  {
   "cell_type": "code",
   "execution_count": 18,
   "id": "221d7e1c",
   "metadata": {},
   "outputs": [],
   "source": [
    "nfl_filter = nfl[cols_keep]\n",
    "groupby_NFL = nfl_filter.groupby('player_id')"
   ]
  },
  {
   "cell_type": "code",
   "execution_count": 19,
   "id": "52c70eb0",
   "metadata": {},
   "outputs": [],
   "source": [
    "\n",
    "groupby_ncaa = ncaa_filter.groupby('player_id')"
   ]
  },
  {
   "cell_type": "code",
   "execution_count": 20,
   "id": "f7094108",
   "metadata": {},
   "outputs": [],
   "source": [
    "#Replace all Nans with column means\n",
    "\n",
    "final_season = groupby_ncaa.tail(1)\n",
    "nan_cols = list(final_season.columns[final_season.isnull().any(axis=0)])\n",
    "nanDF = final_season.loc[:,nan_cols].copy(deep=False)\n",
    "\n",
    "for i in nan_cols:     #---Applying Only on variables with NaN values\n",
    "    nanDF.loc[:,i].fillna(nanDF.loc[:,i].mean(), inplace=True)\n",
    "    final_season[i] = nanDF[i]\n",
    "    \n",
    "final_season.isnull().values.any()\n",
    "\n",
    "#reset index\n",
    "final_season = final_season.reset_index(drop=True)"
   ]
  },
  {
   "cell_type": "code",
   "execution_count": 21,
   "id": "cb42d89a",
   "metadata": {},
   "outputs": [
    {
     "data": {
      "text/plain": [
       "['grades_hands_drop', 'yards_after_catch_per_reception', 'yards_per_reception']"
      ]
     },
     "execution_count": 21,
     "metadata": {},
     "output_type": "execute_result"
    }
   ],
   "source": [
    "nan_cols"
   ]
  },
  {
   "cell_type": "code",
   "execution_count": 19,
   "id": "af896565",
   "metadata": {},
   "outputs": [],
   "source": [
    "#NFL WRs who had less than 10 games played in their final college season\n",
    "\n",
    "#final_season.loc[final_season['player_game_count'] < 10]"
   ]
  },
  {
   "cell_type": "code",
   "execution_count": 20,
   "id": "c508da2e",
   "metadata": {},
   "outputs": [],
   "source": [
    "#final_season.describe()"
   ]
  },
  {
   "cell_type": "code",
   "execution_count": 22,
   "id": "ff8c14ec",
   "metadata": {},
   "outputs": [],
   "source": [
    "#Create y-label DF\n",
    "players = final_season[['player','player_id']]\n",
    "players = pd.concat([players,pd.DataFrame(columns=list(('800_yard_season','1000_yard_season')))])\n",
    "players.player_id = players.player_id.astype(int)\n",
    "\n",
    "for idx,row in players.iterrows():\n",
    "    \n",
    "    player_id = row['player_id']\n",
    "    player_history = nfl.loc[nfl['player_id'] == player_id]\n",
    "    \n",
    "    for idx, row in player_history.iterrows():\n",
    "        if row['yards'] > 800:\n",
    "            players.loc[players['player_id'] == player_id,'800_yard_season'] = 1\n",
    "            \n",
    "        if row['yards'] > 1000:\n",
    "            players.loc[players['player_id'] == player_id,'1000_yard_season'] = 1\n",
    "            \n",
    "    if pd.isna(players.loc[players['player_id'] == player_id,'800_yard_season'].item()):\n",
    "        players.loc[players['player_id'] == player_id,'800_yard_season'] = 0\n",
    "        \n",
    "    if pd.isna(players.loc[players['player_id'] == player_id,'1000_yard_season'].item()):\n",
    "        players.loc[players['player_id'] == player_id,'1000_yard_season'] = 0"
   ]
  },
  {
   "cell_type": "code",
   "execution_count": 23,
   "id": "c0902628",
   "metadata": {
    "scrolled": true
   },
   "outputs": [
    {
     "name": "stdout",
     "output_type": "stream",
     "text": [
      "The number of WR who has over 800 yards in a NFL season is 41 \n",
      "The number of WR who has over 1000 yards in a NFL season is 63 \n",
      "\n"
     ]
    }
   ],
   "source": [
    "num_800 = len(players.loc[players['1000_yard_season'] == 1])\n",
    "\n",
    "num_1000 = len(players.loc[players['800_yard_season'] == 1])\n",
    "\n",
    "print(\n",
    "f\"The number of WR who has over 800 yards in a NFL season is {num_800} \\n\"\n",
    "f\"The number of WR who has over 1000 yards in a NFL season is {num_1000} \\n\"    \n",
    ")"
   ]
  },
  {
   "cell_type": "code",
   "execution_count": 26,
   "id": "8704feae",
   "metadata": {},
   "outputs": [],
   "source": [
    "data = final_season\n",
    "labels = players"
   ]
  },
  {
   "cell_type": "code",
   "execution_count": 28,
   "id": "58944a01",
   "metadata": {},
   "outputs": [],
   "source": [
    "data.to_csv('data/data.csv', index=False)\n",
    "labels.to_csv('data/labels.csv', index=False)"
   ]
  }
 ],
 "metadata": {
  "kernelspec": {
   "display_name": "Python 3 (ipykernel)",
   "language": "python",
   "name": "python3"
  },
  "language_info": {
   "codemirror_mode": {
    "name": "ipython",
    "version": 3
   },
   "file_extension": ".py",
   "mimetype": "text/x-python",
   "name": "python",
   "nbconvert_exporter": "python",
   "pygments_lexer": "ipython3",
   "version": "3.10.12"
  }
 },
 "nbformat": 4,
 "nbformat_minor": 5
}
