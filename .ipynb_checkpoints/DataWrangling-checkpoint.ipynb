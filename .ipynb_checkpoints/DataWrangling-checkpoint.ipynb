{
 "cells": [
  {
   "cell_type": "code",
   "execution_count": 1,
   "id": "b6a98b7f",
   "metadata": {},
   "outputs": [],
   "source": [
    "import pandas as pd\n",
    "import glob\n",
    "import os\n",
    "from collections import Counter"
   ]
  },
  {
   "cell_type": "code",
   "execution_count": 2,
   "id": "6e8f11fc",
   "metadata": {},
   "outputs": [],
   "source": [
    "#https://stackoverflow.com/questions/20625582/how-to-deal-with-settingwithcopywarning-in-pandas\n",
    "\n",
    "pd.set_option('mode.chained_assignment', None)"
   ]
  },
  {
   "cell_type": "markdown",
   "id": "7a88bf3a",
   "metadata": {},
   "source": [
    "### Data source\n",
    "https://premium.pff.com/ncaa/positions/2014/REGPO/receiving?division=fbs&position=WR"
   ]
  },
  {
   "cell_type": "code",
   "execution_count": 3,
   "id": "3c108a3b",
   "metadata": {},
   "outputs": [],
   "source": [
    "#path = r'C:\\Users\\16467\\Documents\\OMSA\\CDA_ISYE6740_Spring24\\project\\data' "
   ]
  },
  {
   "cell_type": "code",
   "execution_count": 4,
   "id": "ef84a70a",
   "metadata": {},
   "outputs": [],
   "source": [
    "path = r'data' \n",
    "all_files = glob.glob(path + \"/*.csv\")"
   ]
  },
  {
   "cell_type": "code",
   "execution_count": 5,
   "id": "99ad466b",
   "metadata": {},
   "outputs": [
    {
     "data": {
      "text/plain": [
       "['data\\\\data.csv',\n",
       " 'data\\\\labels.csv',\n",
       " 'data\\\\ncaa_wr14.csv',\n",
       " 'data\\\\ncaa_wr15.csv',\n",
       " 'data\\\\ncaa_wr16.csv',\n",
       " 'data\\\\ncaa_wr17.csv',\n",
       " 'data\\\\ncaa_wr18.csv',\n",
       " 'data\\\\ncaa_wr19.csv',\n",
       " 'data\\\\ncaa_wr20.csv',\n",
       " 'data\\\\ncaa_wr21.csv',\n",
       " 'data\\\\ncaa_wr22.csv',\n",
       " 'data\\\\ncaa_wr23.csv',\n",
       " 'data\\\\nfl_wr15.csv',\n",
       " 'data\\\\nfl_wr16.csv',\n",
       " 'data\\\\nfl_wr17.csv',\n",
       " 'data\\\\nfl_wr18.csv',\n",
       " 'data\\\\nfl_wr19.csv',\n",
       " 'data\\\\nfl_wr20.csv',\n",
       " 'data\\\\nfl_wr21.csv',\n",
       " 'data\\\\nfl_wr22.csv',\n",
       " 'data\\\\nfl_wr23.csv']"
      ]
     },
     "execution_count": 5,
     "metadata": {},
     "output_type": "execute_result"
    }
   ],
   "source": [
    "all_files"
   ]
  },
  {
   "cell_type": "code",
   "execution_count": 6,
   "id": "7a00e436",
   "metadata": {},
   "outputs": [],
   "source": [
    "#https://stackoverflow.com/questions/56949605/how-to-read-each-file-from-a-folder-and-create-seperate-data-frames-for-each-fil\n",
    "d = {os.path.splitext(os.path.basename(f))[0] : pd.read_csv(f) for f in all_files} "
   ]
  },
  {
   "cell_type": "code",
   "execution_count": 7,
   "id": "919649dd",
   "metadata": {},
   "outputs": [],
   "source": [
    "#create a list of tuples where each tuple is (name of csv,dataframe)\n",
    "\n",
    "#https://stackoverflow.com/questions/10795973/python-dictionary-search-values-for-keys-using-regular-expression\n",
    "ncaa_list = [(key, value) for key, value in d.items() if key.startswith(\"ncaa_\")]\n",
    "\n",
    "#add year column to each dataframe\n",
    "\n",
    "for entry in ncaa_list:\n",
    "    if 'year' not in entry[1].columns:\n",
    "        name = entry[0][len(entry[0]) - 2:]\n",
    "        year = \"20\"+name\n",
    "        entry[1].insert(0, 'year', int(year))\n",
    "\n",
    "#concat dfs in list into one df\n",
    "ncaa_all = pd.DataFrame()\n",
    "for i in ncaa_list:\n",
    "    ncaa_all = pd.concat([ncaa_all,i[1]])"
   ]
  },
  {
   "cell_type": "code",
   "execution_count": 8,
   "id": "e8d6dc2d",
   "metadata": {
    "scrolled": true
   },
   "outputs": [],
   "source": [
    "#do the above for NFL data\n",
    "\n",
    "nfl_list = [(key, value) for key, value in d.items() if key.startswith(\"nfl_\")]\n",
    "\n",
    "for entry in nfl_list:\n",
    "    if 'year' not in entry[1].columns:\n",
    "        name = entry[0][len(entry[0]) - 2:]\n",
    "        year = \"20\"+name\n",
    "        entry[1].insert(0, 'year', int(year))\n",
    "\n",
    "nfl_all = pd.DataFrame()\n",
    "for i in nfl_list:\n",
    "    nfl_all = pd.concat([nfl_all,i[1]])"
   ]
  },
  {
   "cell_type": "code",
   "execution_count": 9,
   "id": "ab1ef1e6",
   "metadata": {},
   "outputs": [],
   "source": [
    "nflWR = nfl_all.loc[nfl_all['position'] == 'WR']\n",
    "ncaaWR = ncaa_all.loc[ncaa_all['position']  == 'WR']"
   ]
  },
  {
   "cell_type": "code",
   "execution_count": 35,
   "id": "d96985eb",
   "metadata": {},
   "outputs": [
    {
     "data": {
      "text/plain": [
       "4804"
      ]
     },
     "execution_count": 35,
     "metadata": {},
     "output_type": "execute_result"
    }
   ],
   "source": [
    "len(ncaaWR.player_id.unique())"
   ]
  },
  {
   "cell_type": "code",
   "execution_count": 39,
   "id": "5c86bc03",
   "metadata": {},
   "outputs": [
    {
     "data": {
      "text/plain": [
       "46"
      ]
     },
     "execution_count": 39,
     "metadata": {},
     "output_type": "execute_result"
    }
   ],
   "source": [
    "len(ncaaWR.columns)"
   ]
  },
  {
   "cell_type": "code",
   "execution_count": 36,
   "id": "bef64c9c",
   "metadata": {
    "scrolled": true
   },
   "outputs": [
    {
     "data": {
      "text/plain": [
       "630"
      ]
     },
     "execution_count": 36,
     "metadata": {},
     "output_type": "execute_result"
    }
   ],
   "source": [
    "len(nflWR.player_id.unique())"
   ]
  },
  {
   "cell_type": "code",
   "execution_count": 10,
   "id": "6ae41188",
   "metadata": {},
   "outputs": [],
   "source": [
    "#drop all columns that are not player and player_id\n",
    "merged = pd.merge(ncaaWR, nflWR, left_on=['player','player_id'], right_on=['player','player_id'], how='inner')\n",
    "columns_drop = list((Counter(list(merged.columns))-Counter(['player','player_id'])).elements())\n",
    "merged.drop(columns=columns_drop, inplace=True)\n",
    "\n",
    "#get the list of WRs who are in both the NCAA and NFL datasets\n",
    "player_list = merged.drop_duplicates()\n",
    "\n",
    "#Create separate dfs with WR players who have played in the NCCA and the NFL\n",
    "ncaa = ncaaWR[ncaaWR['player_id'].isin(player_list['player_id'])]\n",
    "nfl = nflWR[nflWR['player_id'].isin(player_list['player_id'])]"
   ]
  },
  {
   "cell_type": "code",
   "execution_count": 11,
   "id": "850fd6ce",
   "metadata": {
    "scrolled": true
   },
   "outputs": [
    {
     "name": "stdout",
     "output_type": "stream",
     "text": [
      "We have 377 players who have played in both the NCAA between 2014-2022 and the NFL between 2015-2023\n"
     ]
    }
   ],
   "source": [
    "unique_ncaa = ncaa.drop_duplicates('player_id')\n",
    "print(f\"We have {len(unique_ncaa)} players who have played in both the NCAA between 2014-2022 and the NFL between 2015-2023\")"
   ]
  },
  {
   "cell_type": "code",
   "execution_count": 12,
   "id": "cba75ea2",
   "metadata": {},
   "outputs": [],
   "source": [
    "ncaa = ncaa.reset_index(drop=True)\n",
    "nfl = nfl.reset_index(drop=True)"
   ]
  },
  {
   "cell_type": "code",
   "execution_count": 13,
   "id": "183e2f8a",
   "metadata": {
    "scrolled": true
   },
   "outputs": [
    {
     "data": {
      "text/plain": [
       "Index(['year', 'player', 'player_id', 'position', 'team_name',\n",
       "       'player_game_count', 'avg_depth_of_target', 'avoided_tackles',\n",
       "       'caught_percent', 'contested_catch_rate', 'contested_receptions',\n",
       "       'contested_targets', 'declined_penalties', 'drop_rate', 'drops',\n",
       "       'first_downs', 'franchise_id', 'fumbles', 'grades_hands_drop',\n",
       "       'grades_hands_fumble', 'grades_offense', 'grades_pass_block',\n",
       "       'grades_pass_route', 'inline_rate', 'inline_snaps', 'interceptions',\n",
       "       'longest', 'pass_block_rate', 'pass_blocks', 'pass_plays', 'penalties',\n",
       "       'receptions', 'route_rate', 'routes', 'slot_rate', 'slot_snaps',\n",
       "       'targeted_qb_rating', 'targets', 'touchdowns', 'wide_rate',\n",
       "       'wide_snaps', 'yards', 'yards_after_catch',\n",
       "       'yards_after_catch_per_reception', 'yards_per_reception', 'yprr'],\n",
       "      dtype='object')"
      ]
     },
     "execution_count": 13,
     "metadata": {},
     "output_type": "execute_result"
    }
   ],
   "source": [
    "nfl.columns"
   ]
  },
  {
   "cell_type": "code",
   "execution_count": 14,
   "id": "522fc429",
   "metadata": {},
   "outputs": [],
   "source": [
    "cols_keep = ['year', 'player', 'player_id','player_game_count', 'avg_depth_of_target', 'avoided_tackles','caught_percent','drops','grades_hands_drop',\n",
    "       'grades_hands_fumble', 'grades_offense','grades_pass_route','route_rate', 'routes', 'slot_rate', 'slot_snaps',\n",
    "       'targeted_qb_rating', 'targets', 'touchdowns', 'wide_rate','wide_snaps','routes','receptions', 'yards', 'yards_after_catch','yards_after_catch_per_reception', 'yards_per_reception', 'yprr']"
   ]
  },
  {
   "cell_type": "code",
   "execution_count": 44,
   "id": "b5cf5841",
   "metadata": {},
   "outputs": [
    {
     "data": {
      "text/plain": [
       "['year',\n",
       " 'player',\n",
       " 'player_id',\n",
       " 'player_game_count',\n",
       " 'avg_depth_of_target',\n",
       " 'avoided_tackles',\n",
       " 'caught_percent',\n",
       " 'drops',\n",
       " 'grades_hands_drop',\n",
       " 'grades_hands_fumble',\n",
       " 'grades_offense',\n",
       " 'grades_pass_route',\n",
       " 'route_rate',\n",
       " 'routes',\n",
       " 'slot_rate',\n",
       " 'slot_snaps',\n",
       " 'targeted_qb_rating',\n",
       " 'targets',\n",
       " 'touchdowns',\n",
       " 'wide_rate',\n",
       " 'wide_snaps',\n",
       " 'routes',\n",
       " 'receptions',\n",
       " 'yards',\n",
       " 'yards_after_catch',\n",
       " 'yards_after_catch_per_reception',\n",
       " 'yards_per_reception',\n",
       " 'yprr']"
      ]
     },
     "execution_count": 44,
     "metadata": {},
     "output_type": "execute_result"
    }
   ],
   "source": [
    "cols_keep"
   ]
  },
  {
   "cell_type": "code",
   "execution_count": 15,
   "id": "f70a0e9d",
   "metadata": {
    "scrolled": true
   },
   "outputs": [
    {
     "data": {
      "text/plain": [
       "28"
      ]
     },
     "execution_count": 15,
     "metadata": {},
     "output_type": "execute_result"
    }
   ],
   "source": [
    "len(cols_keep)"
   ]
  },
  {
   "cell_type": "code",
   "execution_count": 16,
   "id": "221d7e1c",
   "metadata": {},
   "outputs": [],
   "source": [
    "nfl_filter = nfl[cols_keep]\n",
    "groupby_NFL = nfl_filter.groupby('player_id')"
   ]
  },
  {
   "cell_type": "code",
   "execution_count": 17,
   "id": "52c70eb0",
   "metadata": {},
   "outputs": [],
   "source": [
    "ncaa_filter = ncaa[cols_keep]\n",
    "groupby_ncaa = ncaa_filter.groupby('player_id')"
   ]
  },
  {
   "cell_type": "code",
   "execution_count": 18,
   "id": "f7094108",
   "metadata": {},
   "outputs": [],
   "source": [
    "#Replace all Nans with column means\n",
    "\n",
    "final_season = groupby_ncaa.tail(1)\n",
    "nan_cols = list(final_season.columns[final_season.isnull().any(axis=0)])\n",
    "nanDF = final_season.loc[:,nan_cols].copy(deep=False)\n",
    "\n",
    "for i in nan_cols:     #---Applying Only on variables with NaN values\n",
    "    nanDF.loc[:,i].fillna(nanDF.loc[:,i].mean(), inplace=True)\n",
    "    final_season[i] = nanDF[i]\n",
    "    \n",
    "final_season.isnull().values.any()\n",
    "\n",
    "#reset index\n",
    "final_season = final_season.reset_index(drop=True)"
   ]
  },
  {
   "cell_type": "code",
   "execution_count": 42,
   "id": "cb42d89a",
   "metadata": {},
   "outputs": [
    {
     "data": {
      "text/plain": [
       "['grades_hands_drop', 'yards_after_catch_per_reception', 'yards_per_reception']"
      ]
     },
     "execution_count": 42,
     "metadata": {},
     "output_type": "execute_result"
    }
   ],
   "source": [
    "nan_cols"
   ]
  },
  {
   "cell_type": "code",
   "execution_count": 19,
   "id": "af896565",
   "metadata": {},
   "outputs": [],
   "source": [
    "#NFL WRs who had less than 10 games played in their final college season\n",
    "\n",
    "#final_season.loc[final_season['player_game_count'] < 10]"
   ]
  },
  {
   "cell_type": "code",
   "execution_count": 20,
   "id": "c508da2e",
   "metadata": {},
   "outputs": [],
   "source": [
    "#final_season.describe()"
   ]
  },
  {
   "cell_type": "code",
   "execution_count": 22,
   "id": "ff8c14ec",
   "metadata": {},
   "outputs": [],
   "source": [
    "#Create y-label DF\n",
    "players = final_season[['player','player_id']]\n",
    "players = pd.concat([players,pd.DataFrame(columns=list(('800_yard_season','1000_yard_season')))])\n",
    "players.player_id = players.player_id.astype(int)\n",
    "\n",
    "for idx,row in players.iterrows():\n",
    "    \n",
    "    player_id = row['player_id']\n",
    "    player_history = nfl.loc[nfl['player_id'] == player_id]\n",
    "    \n",
    "    for idx, row in player_history.iterrows():\n",
    "        if row['yards'] > 800:\n",
    "            players.loc[players['player_id'] == player_id,'800_yard_season'] = 1\n",
    "            \n",
    "        if row['yards'] > 1000:\n",
    "            players.loc[players['player_id'] == player_id,'1000_yard_season'] = 1\n",
    "            \n",
    "    if pd.isna(players.loc[players['player_id'] == player_id,'800_yard_season'].item()):\n",
    "        players.loc[players['player_id'] == player_id,'800_yard_season'] = 0\n",
    "        \n",
    "    if pd.isna(players.loc[players['player_id'] == player_id,'1000_yard_season'].item()):\n",
    "        players.loc[players['player_id'] == player_id,'1000_yard_season'] = 0"
   ]
  },
  {
   "cell_type": "code",
   "execution_count": 23,
   "id": "c0902628",
   "metadata": {
    "scrolled": true
   },
   "outputs": [
    {
     "name": "stdout",
     "output_type": "stream",
     "text": [
      "The number of WR who has over 800 yards in a NFL season is 41 \n",
      "The number of WR who has over 1000 yards in a NFL season is 63 \n",
      "\n"
     ]
    }
   ],
   "source": [
    "num_800 = len(players.loc[players['1000_yard_season'] == 1])\n",
    "\n",
    "num_1000 = len(players.loc[players['800_yard_season'] == 1])\n",
    "\n",
    "print(\n",
    "f\"The number of WR who has over 800 yards in a NFL season is {num_800} \\n\"\n",
    "f\"The number of WR who has over 1000 yards in a NFL season is {num_1000} \\n\"    \n",
    ")"
   ]
  },
  {
   "cell_type": "code",
   "execution_count": 41,
   "id": "528d33a3",
   "metadata": {},
   "outputs": [
    {
     "data": {
      "text/plain": [
       "28"
      ]
     },
     "execution_count": 41,
     "metadata": {},
     "output_type": "execute_result"
    }
   ],
   "source": [
    "len(data.columns)"
   ]
  },
  {
   "cell_type": "code",
   "execution_count": 43,
   "id": "a01121f4",
   "metadata": {},
   "outputs": [
    {
     "data": {
      "text/html": [
       "<div>\n",
       "<style scoped>\n",
       "    .dataframe tbody tr th:only-of-type {\n",
       "        vertical-align: middle;\n",
       "    }\n",
       "\n",
       "    .dataframe tbody tr th {\n",
       "        vertical-align: top;\n",
       "    }\n",
       "\n",
       "    .dataframe thead th {\n",
       "        text-align: right;\n",
       "    }\n",
       "</style>\n",
       "<table border=\"1\" class=\"dataframe\">\n",
       "  <thead>\n",
       "    <tr style=\"text-align: right;\">\n",
       "      <th></th>\n",
       "      <th>year</th>\n",
       "      <th>player</th>\n",
       "      <th>player_id</th>\n",
       "      <th>player_game_count</th>\n",
       "      <th>avg_depth_of_target</th>\n",
       "      <th>avoided_tackles</th>\n",
       "      <th>caught_percent</th>\n",
       "      <th>drops</th>\n",
       "      <th>grades_hands_drop</th>\n",
       "      <th>grades_hands_fumble</th>\n",
       "      <th>...</th>\n",
       "      <th>touchdowns</th>\n",
       "      <th>wide_rate</th>\n",
       "      <th>wide_snaps</th>\n",
       "      <th>routes</th>\n",
       "      <th>receptions</th>\n",
       "      <th>yards</th>\n",
       "      <th>yards_after_catch</th>\n",
       "      <th>yards_after_catch_per_reception</th>\n",
       "      <th>yards_per_reception</th>\n",
       "      <th>yprr</th>\n",
       "    </tr>\n",
       "  </thead>\n",
       "  <tbody>\n",
       "    <tr>\n",
       "      <th>0</th>\n",
       "      <td>2014</td>\n",
       "      <td>Amari Cooper</td>\n",
       "      <td>9437</td>\n",
       "      <td>14</td>\n",
       "      <td>9.9</td>\n",
       "      <td>26</td>\n",
       "      <td>71.3</td>\n",
       "      <td>8</td>\n",
       "      <td>79.4</td>\n",
       "      <td>78.8</td>\n",
       "      <td>...</td>\n",
       "      <td>16</td>\n",
       "      <td>79.6</td>\n",
       "      <td>355</td>\n",
       "      <td>433</td>\n",
       "      <td>124</td>\n",
       "      <td>1727</td>\n",
       "      <td>878</td>\n",
       "      <td>7.1</td>\n",
       "      <td>13.9</td>\n",
       "      <td>3.99</td>\n",
       "    </tr>\n",
       "    <tr>\n",
       "      <th>1</th>\n",
       "      <td>2014</td>\n",
       "      <td>Justin Hardy</td>\n",
       "      <td>9540</td>\n",
       "      <td>13</td>\n",
       "      <td>9.5</td>\n",
       "      <td>20</td>\n",
       "      <td>72.5</td>\n",
       "      <td>5</td>\n",
       "      <td>85.0</td>\n",
       "      <td>78.2</td>\n",
       "      <td>...</td>\n",
       "      <td>10</td>\n",
       "      <td>35.1</td>\n",
       "      <td>231</td>\n",
       "      <td>625</td>\n",
       "      <td>121</td>\n",
       "      <td>1494</td>\n",
       "      <td>612</td>\n",
       "      <td>5.1</td>\n",
       "      <td>12.3</td>\n",
       "      <td>2.39</td>\n",
       "    </tr>\n",
       "    <tr>\n",
       "      <th>2</th>\n",
       "      <td>2014</td>\n",
       "      <td>Vince Mayle</td>\n",
       "      <td>9556</td>\n",
       "      <td>12</td>\n",
       "      <td>9.8</td>\n",
       "      <td>25</td>\n",
       "      <td>65.0</td>\n",
       "      <td>19</td>\n",
       "      <td>43.9</td>\n",
       "      <td>60.8</td>\n",
       "      <td>...</td>\n",
       "      <td>9</td>\n",
       "      <td>99.3</td>\n",
       "      <td>575</td>\n",
       "      <td>551</td>\n",
       "      <td>106</td>\n",
       "      <td>1483</td>\n",
       "      <td>827</td>\n",
       "      <td>7.8</td>\n",
       "      <td>14.0</td>\n",
       "      <td>2.69</td>\n",
       "    </tr>\n",
       "    <tr>\n",
       "      <th>3</th>\n",
       "      <td>2014</td>\n",
       "      <td>Kevin White</td>\n",
       "      <td>9440</td>\n",
       "      <td>13</td>\n",
       "      <td>11.1</td>\n",
       "      <td>24</td>\n",
       "      <td>68.1</td>\n",
       "      <td>9</td>\n",
       "      <td>72.6</td>\n",
       "      <td>61.2</td>\n",
       "      <td>...</td>\n",
       "      <td>10</td>\n",
       "      <td>90.7</td>\n",
       "      <td>535</td>\n",
       "      <td>558</td>\n",
       "      <td>109</td>\n",
       "      <td>1447</td>\n",
       "      <td>679</td>\n",
       "      <td>6.2</td>\n",
       "      <td>13.3</td>\n",
       "      <td>2.59</td>\n",
       "    </tr>\n",
       "    <tr>\n",
       "      <th>4</th>\n",
       "      <td>2014</td>\n",
       "      <td>Jaelen Strong</td>\n",
       "      <td>9503</td>\n",
       "      <td>12</td>\n",
       "      <td>13.9</td>\n",
       "      <td>7</td>\n",
       "      <td>53.3</td>\n",
       "      <td>7</td>\n",
       "      <td>70.3</td>\n",
       "      <td>76.2</td>\n",
       "      <td>...</td>\n",
       "      <td>10</td>\n",
       "      <td>74.7</td>\n",
       "      <td>340</td>\n",
       "      <td>431</td>\n",
       "      <td>81</td>\n",
       "      <td>1168</td>\n",
       "      <td>421</td>\n",
       "      <td>5.2</td>\n",
       "      <td>14.4</td>\n",
       "      <td>2.71</td>\n",
       "    </tr>\n",
       "    <tr>\n",
       "      <th>...</th>\n",
       "      <td>...</td>\n",
       "      <td>...</td>\n",
       "      <td>...</td>\n",
       "      <td>...</td>\n",
       "      <td>...</td>\n",
       "      <td>...</td>\n",
       "      <td>...</td>\n",
       "      <td>...</td>\n",
       "      <td>...</td>\n",
       "      <td>...</td>\n",
       "      <td>...</td>\n",
       "      <td>...</td>\n",
       "      <td>...</td>\n",
       "      <td>...</td>\n",
       "      <td>...</td>\n",
       "      <td>...</td>\n",
       "      <td>...</td>\n",
       "      <td>...</td>\n",
       "      <td>...</td>\n",
       "      <td>...</td>\n",
       "      <td>...</td>\n",
       "    </tr>\n",
       "    <tr>\n",
       "      <th>372</th>\n",
       "      <td>2022</td>\n",
       "      <td>Cedric Tillman</td>\n",
       "      <td>84434</td>\n",
       "      <td>6</td>\n",
       "      <td>14.4</td>\n",
       "      <td>3</td>\n",
       "      <td>62.7</td>\n",
       "      <td>2</td>\n",
       "      <td>78.6</td>\n",
       "      <td>73.1</td>\n",
       "      <td>...</td>\n",
       "      <td>3</td>\n",
       "      <td>88.6</td>\n",
       "      <td>203</td>\n",
       "      <td>207</td>\n",
       "      <td>37</td>\n",
       "      <td>417</td>\n",
       "      <td>106</td>\n",
       "      <td>2.9</td>\n",
       "      <td>11.3</td>\n",
       "      <td>2.01</td>\n",
       "    </tr>\n",
       "    <tr>\n",
       "      <th>373</th>\n",
       "      <td>2022</td>\n",
       "      <td>Jalen Brooks</td>\n",
       "      <td>111284</td>\n",
       "      <td>12</td>\n",
       "      <td>11.4</td>\n",
       "      <td>7</td>\n",
       "      <td>71.7</td>\n",
       "      <td>2</td>\n",
       "      <td>74.0</td>\n",
       "      <td>39.1</td>\n",
       "      <td>...</td>\n",
       "      <td>1</td>\n",
       "      <td>81.7</td>\n",
       "      <td>245</td>\n",
       "      <td>284</td>\n",
       "      <td>33</td>\n",
       "      <td>499</td>\n",
       "      <td>224</td>\n",
       "      <td>6.8</td>\n",
       "      <td>15.1</td>\n",
       "      <td>1.76</td>\n",
       "    </tr>\n",
       "    <tr>\n",
       "      <th>374</th>\n",
       "      <td>2022</td>\n",
       "      <td>Michael Wilson</td>\n",
       "      <td>84423</td>\n",
       "      <td>6</td>\n",
       "      <td>10.4</td>\n",
       "      <td>2</td>\n",
       "      <td>67.5</td>\n",
       "      <td>4</td>\n",
       "      <td>53.5</td>\n",
       "      <td>73.0</td>\n",
       "      <td>...</td>\n",
       "      <td>4</td>\n",
       "      <td>76.3</td>\n",
       "      <td>148</td>\n",
       "      <td>183</td>\n",
       "      <td>27</td>\n",
       "      <td>421</td>\n",
       "      <td>186</td>\n",
       "      <td>6.9</td>\n",
       "      <td>15.6</td>\n",
       "      <td>2.30</td>\n",
       "    </tr>\n",
       "    <tr>\n",
       "      <th>375</th>\n",
       "      <td>2022</td>\n",
       "      <td>Shedrick Jackson</td>\n",
       "      <td>84136</td>\n",
       "      <td>12</td>\n",
       "      <td>14.8</td>\n",
       "      <td>0</td>\n",
       "      <td>50.0</td>\n",
       "      <td>3</td>\n",
       "      <td>47.7</td>\n",
       "      <td>25.0</td>\n",
       "      <td>...</td>\n",
       "      <td>0</td>\n",
       "      <td>91.5</td>\n",
       "      <td>237</td>\n",
       "      <td>245</td>\n",
       "      <td>16</td>\n",
       "      <td>217</td>\n",
       "      <td>68</td>\n",
       "      <td>4.3</td>\n",
       "      <td>13.6</td>\n",
       "      <td>0.89</td>\n",
       "    </tr>\n",
       "    <tr>\n",
       "      <th>376</th>\n",
       "      <td>2022</td>\n",
       "      <td>Jaxon Smith-Njigba</td>\n",
       "      <td>129758</td>\n",
       "      <td>3</td>\n",
       "      <td>12.1</td>\n",
       "      <td>0</td>\n",
       "      <td>50.0</td>\n",
       "      <td>0</td>\n",
       "      <td>74.9</td>\n",
       "      <td>12.0</td>\n",
       "      <td>...</td>\n",
       "      <td>0</td>\n",
       "      <td>12.5</td>\n",
       "      <td>5</td>\n",
       "      <td>40</td>\n",
       "      <td>4</td>\n",
       "      <td>39</td>\n",
       "      <td>14</td>\n",
       "      <td>3.5</td>\n",
       "      <td>9.8</td>\n",
       "      <td>0.98</td>\n",
       "    </tr>\n",
       "  </tbody>\n",
       "</table>\n",
       "<p>377 rows × 28 columns</p>\n",
       "</div>"
      ],
      "text/plain": [
       "     year              player  player_id  player_game_count  \\\n",
       "0    2014        Amari Cooper       9437                 14   \n",
       "1    2014        Justin Hardy       9540                 13   \n",
       "2    2014         Vince Mayle       9556                 12   \n",
       "3    2014         Kevin White       9440                 13   \n",
       "4    2014       Jaelen Strong       9503                 12   \n",
       "..    ...                 ...        ...                ...   \n",
       "372  2022      Cedric Tillman      84434                  6   \n",
       "373  2022        Jalen Brooks     111284                 12   \n",
       "374  2022      Michael Wilson      84423                  6   \n",
       "375  2022    Shedrick Jackson      84136                 12   \n",
       "376  2022  Jaxon Smith-Njigba     129758                  3   \n",
       "\n",
       "     avg_depth_of_target  avoided_tackles  caught_percent  drops  \\\n",
       "0                    9.9               26            71.3      8   \n",
       "1                    9.5               20            72.5      5   \n",
       "2                    9.8               25            65.0     19   \n",
       "3                   11.1               24            68.1      9   \n",
       "4                   13.9                7            53.3      7   \n",
       "..                   ...              ...             ...    ...   \n",
       "372                 14.4                3            62.7      2   \n",
       "373                 11.4                7            71.7      2   \n",
       "374                 10.4                2            67.5      4   \n",
       "375                 14.8                0            50.0      3   \n",
       "376                 12.1                0            50.0      0   \n",
       "\n",
       "     grades_hands_drop  grades_hands_fumble  ...  touchdowns  wide_rate  \\\n",
       "0                 79.4                 78.8  ...          16       79.6   \n",
       "1                 85.0                 78.2  ...          10       35.1   \n",
       "2                 43.9                 60.8  ...           9       99.3   \n",
       "3                 72.6                 61.2  ...          10       90.7   \n",
       "4                 70.3                 76.2  ...          10       74.7   \n",
       "..                 ...                  ...  ...         ...        ...   \n",
       "372               78.6                 73.1  ...           3       88.6   \n",
       "373               74.0                 39.1  ...           1       81.7   \n",
       "374               53.5                 73.0  ...           4       76.3   \n",
       "375               47.7                 25.0  ...           0       91.5   \n",
       "376               74.9                 12.0  ...           0       12.5   \n",
       "\n",
       "     wide_snaps  routes  receptions  yards  yards_after_catch  \\\n",
       "0           355     433         124   1727                878   \n",
       "1           231     625         121   1494                612   \n",
       "2           575     551         106   1483                827   \n",
       "3           535     558         109   1447                679   \n",
       "4           340     431          81   1168                421   \n",
       "..          ...     ...         ...    ...                ...   \n",
       "372         203     207          37    417                106   \n",
       "373         245     284          33    499                224   \n",
       "374         148     183          27    421                186   \n",
       "375         237     245          16    217                 68   \n",
       "376           5      40           4     39                 14   \n",
       "\n",
       "     yards_after_catch_per_reception  yards_per_reception  yprr  \n",
       "0                                7.1                 13.9  3.99  \n",
       "1                                5.1                 12.3  2.39  \n",
       "2                                7.8                 14.0  2.69  \n",
       "3                                6.2                 13.3  2.59  \n",
       "4                                5.2                 14.4  2.71  \n",
       "..                               ...                  ...   ...  \n",
       "372                              2.9                 11.3  2.01  \n",
       "373                              6.8                 15.1  1.76  \n",
       "374                              6.9                 15.6  2.30  \n",
       "375                              4.3                 13.6  0.89  \n",
       "376                              3.5                  9.8  0.98  \n",
       "\n",
       "[377 rows x 28 columns]"
      ]
     },
     "execution_count": 43,
     "metadata": {},
     "output_type": "execute_result"
    }
   ],
   "source": [
    "data"
   ]
  },
  {
   "cell_type": "code",
   "execution_count": 24,
   "id": "8704feae",
   "metadata": {},
   "outputs": [],
   "source": [
    "data = final_season\n",
    "labels = players"
   ]
  },
  {
   "cell_type": "code",
   "execution_count": 30,
   "id": "b2e70065",
   "metadata": {},
   "outputs": [
    {
     "data": {
      "text/plain": [
       "377"
      ]
     },
     "execution_count": 30,
     "metadata": {},
     "output_type": "execute_result"
    }
   ],
   "source": [
    "len(labels)"
   ]
  },
  {
   "cell_type": "code",
   "execution_count": null,
   "id": "58944a01",
   "metadata": {},
   "outputs": [],
   "source": [
    "data.to_csv('data/data.csv', index=False)\n",
    "labels.to_csv('data/labels.csv', index=False)"
   ]
  }
 ],
 "metadata": {
  "kernelspec": {
   "display_name": "Python 3 (ipykernel)",
   "language": "python",
   "name": "python3"
  },
  "language_info": {
   "codemirror_mode": {
    "name": "ipython",
    "version": 3
   },
   "file_extension": ".py",
   "mimetype": "text/x-python",
   "name": "python",
   "nbconvert_exporter": "python",
   "pygments_lexer": "ipython3",
   "version": "3.10.12"
  }
 },
 "nbformat": 4,
 "nbformat_minor": 5
}
